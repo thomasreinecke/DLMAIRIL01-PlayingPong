{
 "cells": [
  {
   "cell_type": "markdown",
   "metadata": {},
   "source": [
    "# Analysis of DQN vs. PPO on Atari Pong\n",
    "\n",
    "This notebook scans the `output/` directory for individual run folders, loads the `metrics.csv` from each, combines them into a master DataFrame, and then produces the learning curves and quantitative metrics for the paper."
   ]
  },
  {
   "cell_type": "code",
   "execution_count": null,
   "metadata": {},
   "outputs": [],
   "source": [
    "import os\n",
    "import pandas as pd\n",
    "import numpy as np\n",
    "import matplotlib.pyplot as plt\n",
    "import seaborn as sns\n",
    "\n",
    "sns.set_theme(style=\"whitegrid\")"
   ]
  },
  {
   "cell_type": "markdown",
   "metadata": {},
   "source": [
    "## 1. Load Experiment Data\n",
    "\n",
    "We scan `output/`, find all run directories, and load their respective `results/metrics.csv` files."
   ]
  },
  {
   "cell_type": "code",
   "execution_count": null,
   "metadata": {},
   "outputs": [],
   "source": [
    "BASE_OUTPUT_DIR = '../output'\n",
    "all_data = []\n",
    "\n",
    "if not os.path.exists(BASE_OUTPUT_DIR):\n",
    "    print(f\"Error: Directory not found at '{BASE_OUTPUT_DIR}'. Please run training first.\")\n",
    "else:\n",
    "    for run_dir_name in os.listdir(BASE_OUTPUT_DIR):\n",
    "        run_path = os.path.join(BASE_OUTPUT_DIR, run_dir_name)\n",
    "        csv_path = os.path.join(run_path, 'results', 'metrics.csv')\n",
    "        \n",
    "        if os.path.isfile(csv_path):\n",
    "            try:\n",
    "                parts = run_dir_name.rsplit('_', 1)\n",
    "                agent_name = parts[0]\n",
    "                seed = int(parts[1])\n",
    "                \n",
    "                df = pd.read_csv(csv_path)\n",
    "                df['agent_name'] = agent_name\n",
    "                df['seed'] = seed\n",
    "                all_data.append(df)\n",
    "            except Exception as e:\n",
    "                print(f\"Could not process {csv_path}: {e}\")\n",
    "\n",
    "if all_data:\n",
    "    results_df = pd.concat(all_data, ignore_index=True)\n",
    "    print(\"Data loaded successfully!\")\n",
    "    print(f\"Found {results_df['agent_name'].nunique()} agents across {results_df['seed'].nunique()} unique seeds.\")\n",
    "    display(results_df.head())\n",
    "else:\n",
    "    print(\"No valid metrics.csv files found in the output directory.\")"
   ]
  },
  {
   "cell_type": "markdown",
   "metadata": {},
   "source": [
    "## 2. Plot Learning Curves"
   ]
  },
  {
   "cell_type": "code",
   "execution_count": null,
   "metadata": {},
   "outputs": [],
   "source": [
    "def plot_learning_curves(df, title, x='environment_frame', y='eval_mean_return', hue='agent_name'):\n",
    "    plt.figure(figsize=(12, 8))\n",
    "    sns.lineplot(data=df, x=x, y=y, hue=hue, errorbar=('ci', 95))\n",
    "    plt.title(title, fontsize=16)\n",
    "    plt.xlabel('Environment Frames', fontsize=12)\n",
    "    plt.ylabel('Mean Episodic Return (30 episodes)', fontsize=12)\n",
    "    plt.legend(title='Agent')\n",
    "    plt.grid(True)\n",
    "    plt.tight_layout()\n",
    "    plt.show()\n",
    "\n",
    "if 'results_df' in locals() and not results_df.empty:\n",
    "    eval_df = results_df.dropna(subset=['eval_mean_return'])\n",
    "    eval_df['environment_frame_millions'] = eval_df['environment_frame'] / 1_000_000\n",
    "\n",
    "    ablation_df = eval_df[eval_df['agent_name'].isin(['dqn_vanilla', 'dqn_enhanced'])]\n",
    "    plot_learning_curves(ablation_df, 'Ablation Study: Vanilla DQN vs. Enhanced DQN', x='environment_frame_millions')\n",
    "\n",
    "    main_comparison_df = eval_df[eval_df['agent_name'].isin(['dqn_enhanced', 'ppo'])]\n",
    "    plot_learning_curves(main_comparison_df, 'Main Comparison: Enhanced DQN vs. PPO', x='environment_frame_millions')"
   ]
  }
 ],
 "metadata": {
  "kernelspec": {
   "display_name": "Python 3",
   "language": "python",
   "name": "python3"
  },
  "language_info": {
   "codemirror_mode": {
    "name": "ipython",
    "version": 3
   },
   "file_extension": ".py",
   "mimetype": "text/x-python",
   "name": "python",
   "nbconvert_exporter": "python",
   "pygments_lexer": "ipython3",
   "version": "3.10.12"
  }
 },
 "nbformat": 4,
 "nbformat_minor": 4
}